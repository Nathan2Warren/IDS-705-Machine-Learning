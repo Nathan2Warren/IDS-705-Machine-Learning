{
 "cells": [
  {
   "cell_type": "markdown",
   "metadata": {},
   "source": [
    "# Assignment 1 - Probability, Linear Algebra, Programming, and Git"
   ]
  },
  {
   "cell_type": "markdown",
   "metadata": {},
   "source": [
    "## *Nathan Warren*\n",
    "Netid:  *naw32*"
   ]
  },
  {
   "cell_type": "markdown",
   "metadata": {},
   "source": [
    "Instructions for all assignments can be found [here](https://github.com/kylebradbury/ids705/blob/master/assignments/_Assignment%20Instructions.ipynb), which is also linked to from the [course syllabus](https://kylebradbury.github.io/ids705/index.html)."
   ]
  },
  {
   "cell_type": "markdown",
   "metadata": {},
   "source": [
    "# Probability and Statistics Theory"
   ]
  },
  {
   "cell_type": "markdown",
   "metadata": {},
   "source": [
    "*Note: for all assignments, write out all equations and math using markdown and [LaTeX](https://tobi.oetiker.ch/lshort/lshort.pdf). For this section of the assignment (Probability and Statistics Theory) show and type up ALL math work*"
   ]
  },
  {
   "cell_type": "markdown",
   "metadata": {},
   "source": [
    "## 1\n",
    "**[3 points]**  \n",
    "Let $f(x) = \\begin{cases}\n",
    "                0           & x < 0  \\\\\n",
    "                \\alpha x^2  & 0 \\leq x \\leq 2 \\\\\n",
    "                0           & 2 < x\n",
    "            \\end{cases}$\n",
    "            \n",
    "For what value of $\\alpha$ is $f(x)$ a valid probability density function?"
   ]
  },
  {
   "cell_type": "markdown",
   "metadata": {},
   "source": [
    "**ANSWER**\n",
    "\n",
    "To solve for a valid value of $\\alpha$ where $f(x)$ is a valid probability desity function, we must set the integral of $f(x)$ equal to 1 (sum of all probabilities in the PDF).\n",
    "\n",
    "$ \\int_{0}^{2}\\alpha x^2 dx = 1$\n",
    "\n",
    "=$ \\frac{1}{3}\\alpha x^3 \\Big|_0^2 = 1$\n",
    "\n",
    "=$ \\frac{8}{3}  \\alpha = 1$\n",
    "\n",
    "$ \\boxed{\\alpha = \\frac{3}{8}}$\n",
    "\n",
    "$f(x)$ is a valid probabiity density function when $\\alpha$ is 3/8."
   ]
  },
  {
   "cell_type": "markdown",
   "metadata": {},
   "source": [
    "## 2\n",
    "**[3 points]** What is the cumulative distribution function (CDF) that corresponds to the following probability distribution function? Please state the value of the CDF for all possible values of $x$.\n",
    "\n",
    "$f(x) = \\begin{cases}\n",
    "    \\frac{1}{3} & 0 < x < 3 \\\\\n",
    "    0           & \\text{otherwise}\n",
    "    \\end{cases}$"
   ]
  },
  {
   "cell_type": "markdown",
   "metadata": {},
   "source": [
    "**ANSWER**\n",
    "\n",
    "To find the CDF, we must integrate the probability distribution function from 0 to $x$.\n",
    "\n",
    "For    $0<x<3, F(x) = \\int_{0}^{x} f(x)dx$\n",
    "\n",
    "$= \\int_{0}^{x} \\frac{1}{3} dx = \\frac{x}{3} \\Big|_0^x$\n",
    "\n",
    "$= \\frac{x}{3}$\n",
    "\n",
    "$\\boxed{F(x) = \\begin{cases}\n",
    "    0           & x<0 \\\\\n",
    "    \\frac{x}{3} & 0 \\leq  x <  3 \\\\\n",
    "    1           & x \\geq 3\n",
    "    \\end{cases}}$"
   ]
  },
  {
   "cell_type": "markdown",
   "metadata": {},
   "source": [
    "## 3\n",
    "**[6 points]** For the probability distribution function for the random variable $X$,\n",
    "\n",
    "$f(x) = \\begin{cases}\n",
    "    \\frac{1}{3} & 0 < x < 3 \\\\\n",
    "    0           & \\text{otherwise}\n",
    "    \\end{cases}$\n",
    "    \n",
    "what is the (a) expected value and (b) variance of $X$. *Show all work*."
   ]
  },
  {
   "cell_type": "markdown",
   "metadata": {},
   "source": [
    "**ANSWER**\n",
    "\n",
    "**(a) Expected Value:**\n",
    "\n",
    "\n",
    "$E(x) = \\int_{-\\infty}^{\\infty}x f(x)dx$\n",
    "\n",
    "$= \\int_{0}^{3} \\frac{x}{3} dx$\n",
    "\n",
    "$ = \\frac{x^2}{6} \\Big|_0^3$\n",
    "\n",
    "$ = \\frac{3^2}{6} - 0$\n",
    "\n",
    "$ \\boxed{= \\frac{3}{2}}$\n",
    "\n",
    "The expected value of $X$ is $\\frac{3}{2}$\n",
    "\n",
    "**(b) Variance:**\n",
    "\n",
    "\n",
    "$Var(x) = E(X^2) - E(X)^2$\n",
    "\n",
    "*We know what $E(X)$ is based on the previous calculation for expected value*\n",
    "\n",
    "$= \\int_{0}^{3}\\frac{1}{3}x^2dx - (\\frac{3}{2})^2$\n",
    "\n",
    "$= \\frac{1}{9}x^3\\big|_0^3 - (\\frac{9}{4})$\n",
    "\n",
    "$= \\frac{3^3}{9} - \\frac{9}{4}$\n",
    "\n",
    "$= 3 - \\frac{9}{4}$\n",
    "\n",
    "$\\boxed{= 0.75}$\n",
    "\n",
    "The variance of $X$ is 0.75. "
   ]
  },
  {
   "cell_type": "markdown",
   "metadata": {},
   "source": [
    "## 4\n",
    "**[6 points]** Consider the following table of data that provides the values of a discrete data vector $\\mathbf{x}$ of samples from the random variable $X$, where each entry in $\\mathbf{x}$ is given as $x_i$.\n",
    "\n",
    "*Table 1. Dataset N=5 observations*\n",
    "\n",
    "|        | $x_0$ | $x_1$ | $x_2$ | $x_3$ | $x_4$ |\n",
    "|------  |-------|-------|-------|-------|-------|\n",
    "|$\\textbf{x}$| 2     | 3     | 10    | -1    | -1    |\n",
    "\n",
    "What is the (a) mean, (b) variance, and the  of the data? \n",
    "\n",
    "*Show all work. Your answer should include the definition of mean, median, and variance in the context of discrete data.*"
   ]
  },
  {
   "cell_type": "markdown",
   "metadata": {},
   "source": [
    "**ANSWER**\n",
    "\n",
    "**(a) Mean**\n",
    "\n",
    "$Mean = \\frac{\\text{Sum of }x_i} {\\text{Number of observations}}$\n",
    "\n",
    "$\\mu  = \\frac{\\sum_\\limits{i = 0}^{N}{x_i}}{N}$\n",
    "\n",
    "$ = \\frac{2+3+10-1-1}{5}$\n",
    "\n",
    "$ = \\frac{13}{5}$\n",
    "\n",
    "$\\boxed{mu = 2.6}$\n",
    "\n",
    "**Median**\n",
    "\n",
    "The median is the number in the dataset that seperates the higher half from the lower half of the sample. When dealing with an odd number of terms, as in this example, the median is the number in the middle when the sample is organized from lowest to highest values. When there is an even amount of values, the median is the mean between the two middle values when organized lowest to highest. \n",
    "\n",
    "Values organized lowest to highest:\n",
    "\n",
    "-1, -1, **2**, 3, 10\n",
    "\n",
    "$\\boxed{Median = 2}$\n",
    "\n",
    "**(b) Variance (Population)**\n",
    "\n",
    "$Variance = \\frac{\\text{Sum of }(x_i - \\mu)^2}{\\text{Number of observations }}$\n",
    "\n",
    "$\\sigma^2 = \\frac{\\sum_\\limits{i = 1}^{N}{(x_i - \\mu)^2}}{N}$\n",
    "\n",
    "$ = \\frac{(2 - 2.6)^2 + (3-2.6)^2 + (10-2.6)^2 + (-1-2.6)^2 + (-1-2.6)^2}{5}$\n",
    "\n",
    "$ = \\frac{(-0.6)^2 + (0.4)^2 + (7.4)^2 + (-3.6)^2 + (-3.6)^2}{5}$\n",
    "\n",
    "$\\boxed{\\sigma^2 = 16.24}$\n",
    "\n"
   ]
  },
  {
   "cell_type": "markdown",
   "metadata": {},
   "source": [
    "## 5\n",
    "**[8 points]** Review of counting from probability theory. \n",
    "\n",
    "(a) How many different 7-place license plates are possible if the first 3 places only contain letters and the last 4 only contain numbers?\n",
    "\n",
    "(b) How many different batting orders are possible for a baseball team with 9 players?\n",
    "\n",
    "(c) How many batting orders of 5 players are possible for a team with 9 players total?\n",
    "\n",
    "(d) Let's assume this class has 26 students and we want to form project teams. How many unique teams of 3 are possible?\n",
    "\n",
    "*Hint: For each problem, determine if order matters, and if it should be calculated with or without replacement.*"
   ]
  },
  {
   "cell_type": "markdown",
   "metadata": {},
   "source": [
    "**ANSWER**\n",
    "\n",
    "**(a)**\n",
    "\n",
    "There are 26 letters in the alphabet (A-Z). There 10 possible values for the numbers (0-9). Order does not matter. There is replacement since using a number or letter once does not mean you can't use it again on the plate.\n",
    "\n",
    "\n",
    "$26 \\times 26 \\times 26 \\times 10 \\times 10 \\times 10 \\times 10$\n",
    "\n",
    "$\\boxed{= 175760000}$\n",
    "\n",
    "There are 175760000 unique 7 character plates possible that begin with 3 letters and end in 4 numbers.\n",
    "\n",
    "\n",
    "**(b)**\n",
    "\n",
    "Order is important since a player can not bat again until the rest of the 8 players have. We have 9 options for first batter, 8 for second, continuing until we have only a single player for 9th batter. No replacement. \n",
    "\n",
    "$ 9\\times8\\times7\\times6\\times5\\times4\\times3\\times2\\times1$\n",
    "\n",
    "$ = 9\\text{!}$\n",
    "\n",
    "$ \\boxed{= 362880}$\n",
    "\n",
    "There are 362880 unique batting orders possible for a team with 9 players. \n",
    "\n",
    "**(c)**\n",
    "\n",
    "Order matters since a player can not bat again until the rest of the team does. Since the order matters, we know this is a permutation question. There are 9 options for first batter continuing until there are 6 options for 5th batter. No replacement. \n",
    "\n",
    "$P(n,r) = \\frac{n!}{(n-r)!}$\n",
    "\n",
    "$\\frac{9\\text{!}}{(9-5)\\text{!}}$\n",
    "\n",
    "$ = 9\\times8\\times7\\times6\\times5$\n",
    "\n",
    "$ \\boxed{= 15120}$\n",
    "\n",
    "There are 15120 unique 5 player batting orders possible for a 9 person team.\n",
    "\n",
    "**(d)**\n",
    "\n",
    "Order does not matter so we know this is a combination question. No replacement since a student can not be on two teams.\n",
    "\n",
    "$C(n,r) = \\frac{n!}{(n-r)!r!}$\n",
    "\n",
    "$\\frac{26\\text{!}}{(26-3)\\text{!}3!}$\n",
    "\n",
    "$\\boxed{= 2600}$\n",
    "\n",
    "There are 2600 unique teams of 3 possible. \n"
   ]
  },
  {
   "cell_type": "markdown",
   "metadata": {},
   "source": [
    "# Linear Algebra"
   ]
  },
  {
   "cell_type": "markdown",
   "metadata": {},
   "source": [
    "## 6\n",
    "**[7 points]** **Matrix manipulations and multiplication**. Machine learning involves working with many matrices, so this exercise will provide you with the opportunity to practice those skills.\n",
    "\n",
    "Let\n",
    "$\\mathbf{A} =  \\begin{bmatrix}\n",
    "1 & 2 & 3 \\\\\n",
    "2 & 4 & 5 \\\\\n",
    "3 & 5 & 6 \n",
    "\\end{bmatrix}$, $\\mathbf{b} =  \\begin{bmatrix}\n",
    "-1  \\\\\n",
    "3  \\\\\n",
    "8  \n",
    "\\end{bmatrix}$, $\\mathbf{c} =  \\begin{bmatrix}\n",
    "4  \\\\\n",
    "-3  \\\\\n",
    "6  \n",
    "\\end{bmatrix}$, and $\\mathbf{I} =  \\begin{bmatrix}\n",
    "1 & 0 & 0 \\\\\n",
    "0 & 1 & 0 \\\\\n",
    "0 & 0 & 1 \n",
    "\\end{bmatrix}$\n",
    "\n",
    "Compute the following or indicate that it cannot be computed:\n",
    "\n",
    "1. $\\mathbf{A}\\mathbf{A}$\n",
    "2. $\\mathbf{A}\\mathbf{A}^T$\n",
    "3. $\\mathbf{A}\\mathbf{b}$\n",
    "4. $\\mathbf{A}\\mathbf{b}^T$\n",
    "5. $\\mathbf{b}\\mathbf{A}$\n",
    "6. $\\mathbf{b}^T\\mathbf{A}$\n",
    "7. $\\mathbf{b}\\mathbf{b}$\n",
    "8. $\\mathbf{b}^T\\mathbf{b}$\n",
    "9. $\\mathbf{b}\\mathbf{b}^T$\n",
    "10. $\\mathbf{b} + \\mathbf{c}^T$\n",
    "11. $\\mathbf{b}^T\\mathbf{b}^T$\n",
    "12. $\\mathbf{A}^{-1}\\mathbf{b}$\n",
    "13. $\\mathbf{A}\\circ\\mathbf{A}$\n",
    "14. $\\mathbf{b}\\circ\\mathbf{c}$\n",
    "\n",
    "*Note: The element-wise (or Hadamard) product is the product of each element in one matrix with the corresponding element in another matrix, and is represented by the symbol \"$\\circ$\".*"
   ]
  },
  {
   "cell_type": "markdown",
   "metadata": {},
   "source": [
    "**ANSWER**"
   ]
  },
  {
   "cell_type": "code",
   "execution_count": 1,
   "metadata": {},
   "outputs": [
    {
     "name": "stdout",
     "output_type": "stream",
     "text": [
      "A is \n",
      "[[1 2 3]\n",
      " [2 4 5]\n",
      " [3 5 6]]\n",
      "\n",
      " b is \n",
      "[-1  3  8]\n",
      "\n",
      " c is \n",
      "[ 4 -3  6]\n",
      "\n",
      " I is \n",
      "[[1 0 0]\n",
      " [0 1 0]\n",
      " [0 0 1]]\n"
     ]
    }
   ],
   "source": [
    "import numpy as np\n",
    "A = np.matrix([(1,2,3),\n",
    "               (2,4,5),\n",
    "               (3,5,6)])\n",
    "               \n",
    "b = np.array([-1,3,8]) \n",
    "\n",
    "c = np.array([4,-3,6])\n",
    "\n",
    "I = np.matrix([(1,0,0),\n",
    "               (0,1,0),\n",
    "               (0,0,1)])\n",
    "print(f\"A is \\n{A}\\n\\n b is \\n{b}\\n\\n c is \\n{c}\\n\\n I is \\n{I}\")"
   ]
  },
  {
   "cell_type": "code",
   "execution_count": 2,
   "metadata": {},
   "outputs": [
    {
     "name": "stdout",
     "output_type": "stream",
     "text": [
      "1. AA =\n",
      " [[14 25 31]\n",
      " [25 45 56]\n",
      " [31 56 70]]\n"
     ]
    }
   ],
   "source": [
    "#1.AA\n",
    "print(\"1. AA =\\n\", A*A)"
   ]
  },
  {
   "cell_type": "code",
   "execution_count": 3,
   "metadata": {},
   "outputs": [
    {
     "name": "stdout",
     "output_type": "stream",
     "text": [
      "2. AAt =\n",
      " [[14 25 31]\n",
      " [25 45 56]\n",
      " [31 56 70]]\n"
     ]
    }
   ],
   "source": [
    "#2. AAt \n",
    "# Same answer as 1 since A being transposed does not change the matrix. t is used to denote transpose.\n",
    "print(\"2. AAt =\\n\", A*A.T)"
   ]
  },
  {
   "cell_type": "code",
   "execution_count": 4,
   "metadata": {},
   "outputs": [
    {
     "name": "stdout",
     "output_type": "stream",
     "text": [
      "3. Ab = \n",
      " [[29 50 60]]\n",
      "\n",
      "3. (Displayed Properly)\n",
      " Ab = \n",
      " [[29]\n",
      " [50]\n",
      " [60]]\n"
     ]
    }
   ],
   "source": [
    "#3. Ab \n",
    "# This should be displayed as a column.\n",
    "print(\"3. Ab = \\n\", A.dot(b))\n",
    "\n",
    "# Displayed properly\n",
    "A1b1 = np.matrix([(29),\n",
    "                 (50),\n",
    "                 (60)])\n",
    "\n",
    "print(\"\\n3. (Displayed Properly)\\n Ab = \\n\", A1b1.T)"
   ]
  },
  {
   "cell_type": "markdown",
   "metadata": {},
   "source": [
    "4.  \n",
    "$Ab^t$ = Can not be computed because of dimensions (3x3 * 1x3)."
   ]
  },
  {
   "cell_type": "markdown",
   "metadata": {},
   "source": [
    "5. $bA$ can not be computed because of dimensions (3x1 * 3x3)."
   ]
  },
  {
   "cell_type": "code",
   "execution_count": 5,
   "metadata": {},
   "outputs": [
    {
     "name": "stdout",
     "output_type": "stream",
     "text": [
      "6. btA = \n",
      " [[29 50 60]]\n"
     ]
    }
   ],
   "source": [
    "#6. btA\n",
    "print(\"6. btA = \\n\", b.T*A)"
   ]
  },
  {
   "cell_type": "markdown",
   "metadata": {},
   "source": [
    "7. $bb$ can not be computed because of dimensions (3x1 * 3x1)"
   ]
  },
  {
   "cell_type": "code",
   "execution_count": 6,
   "metadata": {},
   "outputs": [
    {
     "name": "stdout",
     "output_type": "stream",
     "text": [
      "8. btb = \n",
      " 74\n",
      "8. Properly displayed:\n",
      " [74]\n"
     ]
    }
   ],
   "source": [
    "#8. btb\n",
    "print(\"8. btb = \\n\",np.matmul(b.T,b))\n",
    "\n",
    "\n",
    "print(\"8. Properly displayed:\\n\",[74])"
   ]
  },
  {
   "cell_type": "code",
   "execution_count": 7,
   "metadata": {},
   "outputs": [
    {
     "name": "stdout",
     "output_type": "stream",
     "text": [
      "9. bbt = \n",
      " [[ 1 -3 -8]\n",
      " [-3  9 24]\n",
      " [-8 24 64]]\n"
     ]
    }
   ],
   "source": [
    "#9. bbt \n",
    "# Had to use matrix since I couldnt get the output correctly here if I did not. Switched back to vector after. \n",
    "b = np.matrix([(-1),(3),(8)])\n",
    "\n",
    "# I had to multiply this way to get the correct output. The correct way to do this would be b*bt. \n",
    "print(\"9. bbt = \\n\", b.T*b)\n",
    "\n",
    "b = np.array([-1,3,8]) "
   ]
  },
  {
   "cell_type": "markdown",
   "metadata": {},
   "source": [
    "10. $b + c_t$ can not be computed due to dimensions of (3x1 + 1x3)"
   ]
  },
  {
   "cell_type": "markdown",
   "metadata": {},
   "source": [
    "11. $b_tb_t$ can not be computed because of dimensions (1x3 * 1x3)"
   ]
  },
  {
   "cell_type": "code",
   "execution_count": 8,
   "metadata": {},
   "outputs": [
    {
     "name": "stdout",
     "output_type": "stream",
     "text": [
      "12. inv(A)b = \n",
      " [[ 6.]\n",
      " [ 4.]\n",
      " [-5.]]\n"
     ]
    }
   ],
   "source": [
    "#12 inverse(A)b\n",
    "# Had to import linalg to inverse and use a matrix again. Changed back to vector after.\n",
    "\n",
    "from numpy.linalg import inv\n",
    "b = np.matrix([(-1),(3),(8)])\n",
    "b = b.T\n",
    "\n",
    "print(\"12. inv(A)b = \\n\",inv(A) * b)\n",
    "\n",
    "b = np.array([-1,3,8]) "
   ]
  },
  {
   "cell_type": "code",
   "execution_count": 9,
   "metadata": {},
   "outputs": [
    {
     "name": "stdout",
     "output_type": "stream",
     "text": [
      "13. A∘A = \n",
      " [[ 1  4  9]\n",
      " [ 4 16 25]\n",
      " [ 9 25 36]]\n"
     ]
    }
   ],
   "source": [
    "#13. A∘A\n",
    "print(\"13. A∘A = \\n\", np.multiply(A,A))"
   ]
  },
  {
   "cell_type": "code",
   "execution_count": 10,
   "metadata": {},
   "outputs": [
    {
     "name": "stdout",
     "output_type": "stream",
     "text": [
      "14. b∘c = \n",
      " [-4 -9 48]\n",
      "\n",
      " 14. Properly displayed: \n",
      " [[-4]\n",
      " [-9]\n",
      " [48]]\n"
     ]
    }
   ],
   "source": [
    "#14. b∘c\n",
    "print(\"14. b∘c = \\n\", np.multiply(b,c))\n",
    "\n",
    "b1c1 = np.matrix([(-4),\n",
    "          (-9),\n",
    "          48])\n",
    "b1c1 = b1c1.T\n",
    "\n",
    "print(\"\\n 14. Properly displayed: \\n\",b1c1)"
   ]
  },
  {
   "cell_type": "markdown",
   "metadata": {},
   "source": [
    "## 7\n",
    "**[8 points]** **Eigenvectors and eigenvalues**. Eigenvectors and eigenvalues are useful for some machine learning algorithms, but the concepts take time to solidly grasp. For an intuitive review of these concepts, explore this [interactive website at Setosa.io](http://setosa.io/ev/eigenvectors-and-eigenvalues/). Also, the series of linear algebra videos by Grant Sanderson of 3Brown1Blue are excellent and can be viewed on youtube [here](https://www.youtube.com/playlist?list=PLZHQObOWTQDPD3MizzM2xVFitgF8hE_ab).\n",
    "\n",
    "1. Calculate the eigenvalues and corresponding eigenvectors of matrix $\\mathbf{A}$ above, from the last question.\n",
    "2. Choose one of the eigenvector/eigenvalue pairs, $\\mathbf{v}$ and $\\lambda$, and show that $\\mathbf{A} \\mathbf{v} = \\lambda \\mathbf{v}$. Also show that this relationship extends to higher orders: $\\mathbf{A} \\mathbf{A} \\mathbf{v} = \\lambda^2 \\mathbf{v}$\n",
    "3. Show that the eigenvectors are orthogonal to one another (e.g. their inner product is zero). This is true for real, symmetric matrices."
   ]
  },
  {
   "cell_type": "markdown",
   "metadata": {},
   "source": [
    "**ANSWER**"
   ]
  },
  {
   "cell_type": "code",
   "execution_count": 11,
   "metadata": {},
   "outputs": [
    {
     "name": "stdout",
     "output_type": "stream",
     "text": [
      "\u001b[1m1.\n",
      " Eigenpair 1:\u001b[0m\n",
      " Eigenvalue:  11.344814282762083\n",
      " Eigenvector:  [-0.32798528 -0.59100905 -0.73697623]\n",
      "\u001b[1m\n",
      " Eigenpair 2:\u001b[0m\n",
      " Eigenvalue:  -0.5157294715892572\n",
      " Eigenvector:  [-0.73697623 -0.32798528  0.59100905]\n",
      "\u001b[1m\n",
      " Eigenpair 3:\u001b[0m\n",
      " Eigenvalue:  0.17091518882717865\n",
      " Eigenvector:  [ 0.59100905 -0.73697623  0.32798528]\n"
     ]
    }
   ],
   "source": [
    "#Question 7.1\n",
    "A = np.array([(1,2,3),\n",
    "               (2,4,5),\n",
    "               (3,5,6)])\n",
    "\n",
    "#Find eigenvalues and eigenvectors of A\n",
    "Eigenvalues, Eigenvectors  = np.linalg.eig(A)\n",
    "\n",
    "#For Bolding text\n",
    "class nw:\n",
    "   BOLD = '\\033[1m'\n",
    "   END = '\\033[0m'\n",
    "print(nw.BOLD + \"1.\\n Eigenpair 1:\" + nw.END +\"\\n Eigenvalue: \", Eigenvalues[0])\n",
    "print(\" Eigenvector: \", Eigenvectors[:,0])\n",
    "\n",
    "print(nw.BOLD + \"\\n Eigenpair 2:\" + nw.END +\"\\n Eigenvalue: \", Eigenvalues[1])\n",
    "print(\" Eigenvector: \", Eigenvectors[:,1])\n",
    "\n",
    "\n",
    "print(nw.BOLD + \"\\n Eigenpair 3:\" + nw.END +\"\\n Eigenvalue: \", Eigenvalues[2])\n",
    "print(\" Eigenvector: \", Eigenvectors[:,2])"
   ]
  },
  {
   "cell_type": "code",
   "execution_count": 12,
   "metadata": {},
   "outputs": [
    {
     "name": "stdout",
     "output_type": "stream",
     "text": [
      "2.\n",
      "Showing that Av = 𝜆v\n",
      "Av =  [-3.72093206 -6.70488789 -8.36085845]\n",
      "𝜆v =  [-3.72093206 -6.70488789 -8.36085845]\n",
      "\n",
      "Relationship extends to higher orders\n",
      "AAv =  [-42.2132832  -76.06570795 -94.85238636]\n",
      "𝜆𝜆v =  [-42.2132832  -76.06570795 -94.85238636]\n"
     ]
    }
   ],
   "source": [
    "#Question 7.2\n",
    "#Pair 1\n",
    "eval = Eigenvalues[0]\n",
    "evec = Eigenvectors[:,0]\n",
    "\n",
    "#Show that Av = 𝜆v\n",
    "Av = A.dot(evec)\n",
    "EE = eval*evec\n",
    "print(\"2.\\nShowing that Av = 𝜆v\")\n",
    "print(\"Av = \",Av)\n",
    "print(\"𝜆v = \", EE)\n",
    "\n",
    "#Higher order AAV = 𝜆𝜆v\n",
    "AAv = A.dot(A.dot(evec))\n",
    "L2v = eval*eval*evec\n",
    "print(\"\\nRelationship extends to higher orders\")\n",
    "print(\"AAv = \",AAv)\n",
    "print(\"𝜆𝜆v = \",L2v)"
   ]
  },
  {
   "cell_type": "code",
   "execution_count": 13,
   "metadata": {},
   "outputs": [
    {
     "name": "stdout",
     "output_type": "stream",
     "text": [
      "3.\n",
      "Inner product of two of the Eigenvectors = \n",
      " -1.1102230246251565e-16\n",
      "\n",
      "This is 0, just a likely a little off due to rounding in python. This shows that the eigenvectors are orthogonal.\n"
     ]
    }
   ],
   "source": [
    "#Question 7.3 Eigenvectors are orthogonal to eachother (inner product =0) (True for symmetrical matrices)\n",
    "evec2 = Eigenvectors[:,1]\n",
    "\n",
    "print(\"3.\")\n",
    "\n",
    "#This is essentially 0\n",
    "print(\"Inner product of two of the Eigenvectors = \\n\", np.dot(evec, evec2))\n",
    "\n",
    "print(\"\\nThis is 0, just a likely a little off due to rounding in python. This shows that the eigenvectors are orthogonal.\")"
   ]
  },
  {
   "cell_type": "markdown",
   "metadata": {},
   "source": [
    "# Numerical Programming"
   ]
  },
  {
   "cell_type": "markdown",
   "metadata": {},
   "source": [
    "## 8\n",
    "**[10 points]** Loading data and gathering insights from a real dataset\n",
    "\n",
    "**Data**. The data for this problem can be found in the `data` subfolder in the `assignments` folder on [github](https://github.com/kylebradbury/ids705). The filename is `egrid2016.xlsx`. This dataset is the Environmental Protection Agency's (EPA) [Emissions & Generation Resource Integrated Database (eGRID)](https://www.epa.gov/energy/emissions-generation-resource-integrated-database-egrid) containing information about all power plants in the United States, the amount of generation they produce, what fuel they use, the location of the plant, and many more quantities. We'll be using a subset of those data.\n",
    "\n",
    "The fields we'll be using include:\t\t\t\t\t\n",
    "    \n",
    "|field    |description|\n",
    "|:-----   |:-----|\n",
    "|SEQPLT16 |eGRID2016 Plant file sequence number (the index)| \n",
    "|PSTATABB |Plant state abbreviation|\n",
    "|PNAME    |Plant name |\n",
    "|LAT      |Plant latitude |\n",
    "|LON      |Plant longitude|\n",
    "|PLPRMFL  |Plant primary fuel |\n",
    "|CAPFAC   |Plant capacity factor |\n",
    "|NAMEPCAP |Plant nameplate capacity (Megawatts MW)|\n",
    "|PLNGENAN |Plant annual net generation (Megawatt-hours MWh)|\n",
    "|PLCO2EQA |Plant annual CO2 equivalent emissions (tons)|\n",
    "\n",
    "For more details on the data, you can refer to the [eGrid technical documents](https://www.epa.gov/sites/production/files/2018-02/documents/egrid2016_technicalsupportdocument_0.pdf). For example, you may want to review page 45 and the section \"Plant Primary Fuel (PLPRMFL)\", which gives the full names of the fuel types including WND for wind, NG for natural gas, BIT for Bituminous coal, etc.\n",
    "\n",
    "There also are a couple of \"gotchas\" to watch out for with this dataset:\n",
    "- The headers are on the second row and you'll want to ignore the first row (they're more detailed descriptions of the headers).\n",
    "- NaN values represent blanks in the data. These will appear regularly in real-world data, so getting experience working with it will be important.\n",
    "\n",
    "**Your objective**. For this dataset, your goal is answer the following questions about electricity generation in the United States:\n",
    "\n",
    "**(a)** Which plant has generated the most energy (measured in MWh)?\n",
    "\n",
    "**(b)** What is the name of the northern-most power plant in the United States?\n",
    "\n",
    "**(c)** What is the state where the northern-most power plant in the United States is located?\n",
    "\n",
    "**(d)** Plot a bar plot showing the amount of energy produced by each fuel for the plant.\n",
    "\n",
    "**(e)** From the plot in (d), which fuel for generation produces the most energy (MWh) in the United States?"
   ]
  },
  {
   "cell_type": "markdown",
   "metadata": {},
   "source": [
    "**ANSWER**"
   ]
  },
  {
   "cell_type": "code",
   "execution_count": 14,
   "metadata": {},
   "outputs": [
    {
     "data": {
      "text/html": [
       "<div>\n",
       "<style scoped>\n",
       "    .dataframe tbody tr th:only-of-type {\n",
       "        vertical-align: middle;\n",
       "    }\n",
       "\n",
       "    .dataframe tbody tr th {\n",
       "        vertical-align: top;\n",
       "    }\n",
       "\n",
       "    .dataframe thead th {\n",
       "        text-align: right;\n",
       "    }\n",
       "</style>\n",
       "<table border=\"1\" class=\"dataframe\">\n",
       "  <thead>\n",
       "    <tr style=\"text-align: right;\">\n",
       "      <th></th>\n",
       "      <th>SEQPLT16</th>\n",
       "      <th>PSTATABB</th>\n",
       "      <th>PNAME</th>\n",
       "      <th>LAT</th>\n",
       "      <th>LON</th>\n",
       "      <th>PLPRMFL</th>\n",
       "      <th>CAPFAC</th>\n",
       "      <th>NAMEPCAP</th>\n",
       "      <th>PLNGENAN</th>\n",
       "      <th>PLCO2EQA</th>\n",
       "    </tr>\n",
       "  </thead>\n",
       "  <tbody>\n",
       "    <tr>\n",
       "      <th>0</th>\n",
       "      <td>1</td>\n",
       "      <td>AK</td>\n",
       "      <td>7-Mile Ridge Wind Project</td>\n",
       "      <td>63.210689</td>\n",
       "      <td>-143.247156</td>\n",
       "      <td>WND</td>\n",
       "      <td>NaN</td>\n",
       "      <td>1.8</td>\n",
       "      <td>NaN</td>\n",
       "      <td>NaN</td>\n",
       "    </tr>\n",
       "    <tr>\n",
       "      <th>1</th>\n",
       "      <td>2</td>\n",
       "      <td>AK</td>\n",
       "      <td>Agrium Kenai Nitrogen Operations</td>\n",
       "      <td>60.673200</td>\n",
       "      <td>-151.378400</td>\n",
       "      <td>NG</td>\n",
       "      <td>NaN</td>\n",
       "      <td>21.6</td>\n",
       "      <td>NaN</td>\n",
       "      <td>NaN</td>\n",
       "    </tr>\n",
       "    <tr>\n",
       "      <th>2</th>\n",
       "      <td>3</td>\n",
       "      <td>AK</td>\n",
       "      <td>Alakanuk</td>\n",
       "      <td>62.683300</td>\n",
       "      <td>-164.654400</td>\n",
       "      <td>DFO</td>\n",
       "      <td>0.05326</td>\n",
       "      <td>2.6</td>\n",
       "      <td>1213.001</td>\n",
       "      <td>1049.863</td>\n",
       "    </tr>\n",
       "    <tr>\n",
       "      <th>3</th>\n",
       "      <td>4</td>\n",
       "      <td>AK</td>\n",
       "      <td>Allison Creek Hydro</td>\n",
       "      <td>61.084444</td>\n",
       "      <td>-146.353333</td>\n",
       "      <td>WAT</td>\n",
       "      <td>0.01547</td>\n",
       "      <td>6.5</td>\n",
       "      <td>881.000</td>\n",
       "      <td>0.000</td>\n",
       "    </tr>\n",
       "    <tr>\n",
       "      <th>4</th>\n",
       "      <td>5</td>\n",
       "      <td>AK</td>\n",
       "      <td>Ambler</td>\n",
       "      <td>67.087980</td>\n",
       "      <td>-157.856719</td>\n",
       "      <td>DFO</td>\n",
       "      <td>0.13657</td>\n",
       "      <td>1.1</td>\n",
       "      <td>1315.999</td>\n",
       "      <td>1087.881</td>\n",
       "    </tr>\n",
       "  </tbody>\n",
       "</table>\n",
       "</div>"
      ],
      "text/plain": [
       "   SEQPLT16 PSTATABB                             PNAME        LAT         LON  \\\n",
       "0         1       AK         7-Mile Ridge Wind Project  63.210689 -143.247156   \n",
       "1         2       AK  Agrium Kenai Nitrogen Operations  60.673200 -151.378400   \n",
       "2         3       AK                          Alakanuk  62.683300 -164.654400   \n",
       "3         4       AK               Allison Creek Hydro  61.084444 -146.353333   \n",
       "4         5       AK                            Ambler  67.087980 -157.856719   \n",
       "\n",
       "  PLPRMFL   CAPFAC  NAMEPCAP  PLNGENAN  PLCO2EQA  \n",
       "0     WND      NaN       1.8       NaN       NaN  \n",
       "1      NG      NaN      21.6       NaN       NaN  \n",
       "2     DFO  0.05326       2.6  1213.001  1049.863  \n",
       "3     WAT  0.01547       6.5   881.000     0.000  \n",
       "4     DFO  0.13657       1.1  1315.999  1087.881  "
      ]
     },
     "execution_count": 14,
     "metadata": {},
     "output_type": "execute_result"
    }
   ],
   "source": [
    "import pandas as pd\n",
    "egrid = pd.read_excel(\"/Users/N1/Downloads/egrid2016.xlsx\", header = 1)\n",
    "egrid.head(5)"
   ]
  },
  {
   "cell_type": "code",
   "execution_count": 15,
   "metadata": {},
   "outputs": [
    {
     "name": "stdout",
     "output_type": "stream",
     "text": [
      "(a) \n",
      "SEPLT16 #391, with 'Plant Name' Palo Verde, has generated the most energy. Their annual net generation is 3.237748e+07 MWh.\n"
     ]
    },
    {
     "data": {
      "text/html": [
       "<div>\n",
       "<style scoped>\n",
       "    .dataframe tbody tr th:only-of-type {\n",
       "        vertical-align: middle;\n",
       "    }\n",
       "\n",
       "    .dataframe tbody tr th {\n",
       "        vertical-align: top;\n",
       "    }\n",
       "\n",
       "    .dataframe thead th {\n",
       "        text-align: right;\n",
       "    }\n",
       "</style>\n",
       "<table border=\"1\" class=\"dataframe\">\n",
       "  <thead>\n",
       "    <tr style=\"text-align: right;\">\n",
       "      <th></th>\n",
       "      <th>SEQPLT16</th>\n",
       "      <th>PSTATABB</th>\n",
       "      <th>PNAME</th>\n",
       "      <th>LAT</th>\n",
       "      <th>LON</th>\n",
       "      <th>PLPRMFL</th>\n",
       "      <th>CAPFAC</th>\n",
       "      <th>NAMEPCAP</th>\n",
       "      <th>PLNGENAN</th>\n",
       "      <th>PLCO2EQA</th>\n",
       "    </tr>\n",
       "  </thead>\n",
       "  <tbody>\n",
       "    <tr>\n",
       "      <th>390</th>\n",
       "      <td>391</td>\n",
       "      <td>AZ</td>\n",
       "      <td>Palo Verde</td>\n",
       "      <td>33.3881</td>\n",
       "      <td>-112.8617</td>\n",
       "      <td>NUC</td>\n",
       "      <td>0.87801</td>\n",
       "      <td>4209.6</td>\n",
       "      <td>3.237748e+07</td>\n",
       "      <td>0.0</td>\n",
       "    </tr>\n",
       "  </tbody>\n",
       "</table>\n",
       "</div>"
      ],
      "text/plain": [
       "     SEQPLT16 PSTATABB       PNAME      LAT       LON PLPRMFL   CAPFAC  \\\n",
       "390       391       AZ  Palo Verde  33.3881 -112.8617     NUC  0.87801   \n",
       "\n",
       "     NAMEPCAP      PLNGENAN  PLCO2EQA  \n",
       "390    4209.6  3.237748e+07       0.0  "
      ]
     },
     "execution_count": 15,
     "metadata": {},
     "output_type": "execute_result"
    }
   ],
   "source": [
    "#(a) Which plant has generated the most energy (measured in MWh)?\n",
    "print(\"(a) \\nSEPLT16 #391, with 'Plant Name' Palo Verde, has generated the most energy. Their annual net generation is 3.237748e+07 MWh.\")\n",
    "power_max = egrid['PLNGENAN'].max()\n",
    "egrid[egrid['PLNGENAN'] == power_max]"
   ]
  },
  {
   "cell_type": "code",
   "execution_count": 16,
   "metadata": {},
   "outputs": [
    {
     "name": "stdout",
     "output_type": "stream",
     "text": [
      "(b) \n",
      "The name of the northern-most power is Barrow.\n",
      "(c) \n",
      "Barrow is located in Alaska.\n"
     ]
    },
    {
     "data": {
      "text/html": [
       "<div>\n",
       "<style scoped>\n",
       "    .dataframe tbody tr th:only-of-type {\n",
       "        vertical-align: middle;\n",
       "    }\n",
       "\n",
       "    .dataframe tbody tr th {\n",
       "        vertical-align: top;\n",
       "    }\n",
       "\n",
       "    .dataframe thead th {\n",
       "        text-align: right;\n",
       "    }\n",
       "</style>\n",
       "<table border=\"1\" class=\"dataframe\">\n",
       "  <thead>\n",
       "    <tr style=\"text-align: right;\">\n",
       "      <th></th>\n",
       "      <th>SEQPLT16</th>\n",
       "      <th>PSTATABB</th>\n",
       "      <th>PNAME</th>\n",
       "      <th>LAT</th>\n",
       "      <th>LON</th>\n",
       "      <th>PLPRMFL</th>\n",
       "      <th>CAPFAC</th>\n",
       "      <th>NAMEPCAP</th>\n",
       "      <th>PLNGENAN</th>\n",
       "      <th>PLCO2EQA</th>\n",
       "    </tr>\n",
       "  </thead>\n",
       "  <tbody>\n",
       "    <tr>\n",
       "      <th>11</th>\n",
       "      <td>12</td>\n",
       "      <td>AK</td>\n",
       "      <td>Barrow</td>\n",
       "      <td>71.292</td>\n",
       "      <td>-156.7786</td>\n",
       "      <td>NG</td>\n",
       "      <td>0.28208</td>\n",
       "      <td>20.3</td>\n",
       "      <td>50162.0</td>\n",
       "      <td>44205.17</td>\n",
       "    </tr>\n",
       "  </tbody>\n",
       "</table>\n",
       "</div>"
      ],
      "text/plain": [
       "    SEQPLT16 PSTATABB   PNAME     LAT       LON PLPRMFL   CAPFAC  NAMEPCAP  \\\n",
       "11        12       AK  Barrow  71.292 -156.7786      NG  0.28208      20.3   \n",
       "\n",
       "    PLNGENAN  PLCO2EQA  \n",
       "11   50162.0  44205.17  "
      ]
     },
     "execution_count": 16,
     "metadata": {},
     "output_type": "execute_result"
    }
   ],
   "source": [
    "#(b) What is the name of the northern-most power plant in the United States?\n",
    "#(c) What is the state where the northern-most power plant in the United States is located?\n",
    "\n",
    "print(\"(b) \\nThe name of the northern-most power is Barrow.\")\n",
    "print(\"(c) \\nBarrow is located in Alaska.\")\n",
    "most_north = egrid['LAT'].max()\n",
    "egrid[egrid['LAT'] == most_north]"
   ]
  },
  {
   "cell_type": "code",
   "execution_count": 17,
   "metadata": {},
   "outputs": [
    {
     "name": "stdout",
     "output_type": "stream",
     "text": [
      "(d)\n"
     ]
    },
    {
     "data": {
      "image/png": "[encoded data removed]",
      "text/plain": [
       "<Figure size 432x288 with 1 Axes>"
      ]
     },
     "metadata": {
      "needs_background": "light"
     },
     "output_type": "display_data"
    },
    {
     "name": "stdout",
     "output_type": "stream",
     "text": [
      "(e)\n",
      " Natural Gas produces the most energy.\n"
     ]
    }
   ],
   "source": [
    "#(d) Plot a bar plot showing the amount of energy produced by each fuel for the plant.\n",
    "#(e) From the plot in (e), which fuel for generation produces the most energy (MWh) in the United States?\n",
    "import matplotlib.pyplot as plt\n",
    "\n",
    "\n",
    "#Groupby fuel type \n",
    "print('(d)')\n",
    "egrid_ft = egrid.groupby('PLPRMFL').sum()['PLNGENAN']\n",
    "egrid_ft.plot(kind = 'bar')\n",
    "plt.title('Energy Generated by Each Fuel Type')\n",
    "plt.xlabel('Fuel Type')\n",
    "plt.ylabel('Energy Generated (MWh)')\n",
    "plt.show()\n",
    "\n",
    "print(\"(e)\\n Natural Gas produces the most energy.\")"
   ]
  },
  {
   "cell_type": "markdown",
   "metadata": {},
   "source": [
    "## 9\n",
    "**[8 points]** Speed comparison between vectorized and non-vectorized code. Begin by creating an array of 10 million random numbers using the numpy random.randn module. Compute the sum of the squares first in a for loop, then using Numpy's `dot` module. Time how long it takes to compute each and report the results and report the output. How many times faster is the vectorized code than the for loop approach?\n",
    "\n",
    "*Note: all code should be well commented, properly formatted, and your answers should be output using the `print()` function as follows (where the # represents your answers, to a reasonable precision):\n",
    "\n",
    "`Time [sec] (non-vectorized): ######`\n",
    "\n",
    "`Time [sec] (vectorized):     ######`\n",
    "\n",
    "`The vectorized code is ##### times faster than the vectorized code`"
   ]
  },
  {
   "cell_type": "markdown",
   "metadata": {},
   "source": [
    "**ANSWER**"
   ]
  },
  {
   "cell_type": "code",
   "execution_count": 18,
   "metadata": {},
   "outputs": [
    {
     "name": "stdout",
     "output_type": "stream",
     "text": [
      "9. \n",
      "Time [sec] (non-vectorized): 5.460694074630737\n",
      "Time [sec] (vectorized): 0.0038971900939941406\n",
      "The vectorized code is 1401.1875076471308 times faster than the vectorized code\n"
     ]
    }
   ],
   "source": [
    "#9\n",
    "import numpy as np\n",
    "np.random.seed(321)\n",
    "\n",
    "# Generate 10 million random numbers\n",
    "rn = np.random.randn(10000000)\n",
    "\n",
    "import time\n",
    "#Compute sum of squares loop (timed)\n",
    "t1 = time.time()\n",
    "sum=0\n",
    "for i in rn:\n",
    "    sum+=i**2\n",
    "t2 = time.time()\n",
    "\n",
    "time_loop = t2-t1\n",
    "print('9. ')\n",
    "print('Time [sec] (non-vectorized):', time_loop)\n",
    "\n",
    "#Compute sum of squares vectorized with np.dot (timed)\n",
    "t3 = time.time()\n",
    "vec = np.dot(rn,rn)\n",
    "t4 = time.time()\n",
    "time_vec = t4-t3\n",
    "print('Time [sec] (vectorized):',time_vec)\n",
    "\n",
    "#Speed difference between loop and vectorized\n",
    "xfaster = time_loop/time_vec\n",
    "\n",
    "print(f'The vectorized code is {xfaster} times faster than the vectorized code')"
   ]
  },
  {
   "cell_type": "markdown",
   "metadata": {},
   "source": [
    "## 10\n",
    "**[10 points]** One popular Agile development framework is Scrum (a paradigm recommended for data science projects). It emphasizes the continual evolution of code for projects, becoming progressively better, but starting with a quickly developed minimum viable product. This often means that code written early on is not optimized, and that's a good thing - it's best to get it to work first before optimizing. Imagine that you wrote the following code during a sprint towards getting an end-to-end system working. Vectorize the following code and show the difference in speed between the current implementation and a vectorized version.\n",
    "\n",
    "The function below computes the function $f(x,y) = x^2 - 2 y^2$ and determines whether this quantity is above or below a given threshold, `thresh=0`. This is done for $x,y \\in \\{-4,4\\}$, over a 2,000-by-2,000 grid covering that domain.\n",
    "\n",
    "(a) Vectorize this code and demonstrate (as in the last exercise) the speed increase through vectorization and (b) plot the resulting data - both the function $f(x,y)$ and the thresholded output - using [`imshow`](https://matplotlib.org/api/_as_gen/matplotlib.pyplot.imshow.html?highlight=matplotlib%20pyplot%20imshow#matplotlib.pyplot.imshow) from `matplotlib`.\n",
    "\n",
    "*Hint: look at the `numpy` [`meshgrid`](https://docs.scipy.org/doc/numpy-1.13.0/reference/generated/numpy.meshgrid.html) documentation*"
   ]
  },
  {
   "cell_type": "markdown",
   "metadata": {},
   "source": [
    "**ANSWER**"
   ]
  },
  {
   "cell_type": "code",
   "execution_count": 24,
   "metadata": {},
   "outputs": [
    {
     "name": "stdout",
     "output_type": "stream",
     "text": [
      "Time [sec] (non-vectorized): 8.729657649993896\n",
      "Time [sec] (vectorized): 0.04387998580932617\n",
      "The vectorized code is 198.94394879540985 times faster than the vectorized code\n"
     ]
    },
    {
     "data": {
      "image/png": "[encoded data removed]",
      "text/plain": [
       "<Figure size 576x396 with 2 Axes>"
      ]
     },
     "metadata": {},
     "output_type": "display_data"
    }
   ],
   "source": [
    "import numpy as np\n",
    "import time\n",
    "import matplotlib.pyplot as plt\n",
    "from matplotlib import colors\n",
    "\n",
    "nvalues = 2000\n",
    "xvalues = np.linspace(-4,4,nvalues)\n",
    "yvalues = np.linspace(-4,4,nvalues)\n",
    "thresh  = 0\n",
    "\n",
    "# Nonvectorized implementation\n",
    "t0 = time.time()\n",
    "f = np.zeros((nvalues,nvalues))\n",
    "f_thresholded = np.zeros((nvalues,nvalues))\n",
    "for ix, x in enumerate(xvalues):\n",
    "    for iy, y in enumerate(yvalues):\n",
    "        f[ix,iy] = x**2 - 2 * y**2\n",
    "        f_thresholded[ix,iy] = f[ix,iy] > thresh\n",
    "t1 = time.time()\n",
    "time_nonvectorized = t1 - t0\n",
    "\n",
    "# Vectorized implementation\n",
    "t2 = time.time()\n",
    "xv,yv = np.meshgrid(xvalues, yvalues, indexing = 'ij')\n",
    "func = ((xv)**2) - ((2*yv)**2)\n",
    "f_threshold2 = np.where(func>thresh, 1, 0)\n",
    "t3 = time.time()\n",
    "\n",
    "# Vectorization speed performance results\n",
    "non_vectorized = t1-t0\n",
    "vectorized = t3-t2\n",
    "\n",
    "xfaster = non_vectorized/vectorized\n",
    "print('Time [sec] (non-vectorized):', non_vectorized)\n",
    "print('Time [sec] (vectorized):',vectorized)\n",
    "print(f'The vectorized code is {xfaster} times faster than the vectorized code')\n",
    "\n",
    "# Plot the function f(x,y)\n",
    "plt.subplot(121)\n",
    "plt.title(\"Function Plot\")\n",
    "plt.xticks(np.linspace(0,2000,5), [-4, -2, 0, 2, 4])\n",
    "plt.yticks(np.linspace(0,2000,5), [-4, -2, 0, 2, 4])\n",
    "plt.xlabel('x')\n",
    "plt.ylabel('y')\n",
    "plt.imshow(func)\n",
    "\n",
    "plt.subplot(122)\n",
    "plt.title('Threshold Plot')\n",
    "plt.xticks(np.linspace(0,2000,5), [-4, -2, 0, 2, 4])\n",
    "plt.yticks(np.linspace(0,2000,5), [-4, -2, 0, 2, 4])\n",
    "plt.xlabel('x')\n",
    "plt.ylabel('y')\n",
    "plt.imshow(f_threshold2)\n",
    "plt.show()"
   ]
  },
  {
   "cell_type": "markdown",
   "metadata": {},
   "source": [
    "## 11\n",
    "**[10 points]** This exercise will walk through some basic numerical programming exercises.\n",
    "1. Synthesize $n=10^4$ normally distributed data points with mean $\\mu=2$ and a standard deviation of $\\sigma=1$. Call these observations from a random variable $X$, and call the vector of observations that you generate, $\\textbf{x}$.\n",
    "2. Calculate the mean and standard deviation of $\\textbf{x}$ to validate (1) and provide the result to a precision of four significant figures.\n",
    "3. Plot a histogram of the data in $\\textbf{x}$ with 30 bins\n",
    "4. What is the 90th percentile of $\\textbf{x}$? The 90th percentile is the value below which 90% of observations can be found.\n",
    "5. What is the 99th percentile of $\\textbf{x}$?\n",
    "6. Now synthesize $n=10^4$ normally distributed data points with mean $\\mu=0$ and a standard deviation of $\\sigma=3$. Call these observations from a random variable $Y$, and call the vector of observations that you generate, $\\textbf{y}$.\n",
    "7. Create a new figure and plot the histogram of the data in $\\textbf{y}$ on the same axes with the histogram of $\\textbf{x}$, so that both histograms can be seen and compared.\n",
    "8. Using the observations from $\\textbf{x}$ and $\\textbf{y}$, estimate $E[XY]$"
   ]
  },
  {
   "cell_type": "markdown",
   "metadata": {},
   "source": [
    "**ANSWER**"
   ]
  },
  {
   "cell_type": "code",
   "execution_count": 20,
   "metadata": {},
   "outputs": [],
   "source": [
    "import matplotlib.pyplot as plt\n",
    "import seaborn as sns\n",
    "import numpy as np"
   ]
  },
  {
   "cell_type": "code",
   "execution_count": 21,
   "metadata": {},
   "outputs": [
    {
     "name": "stdout",
     "output_type": "stream",
     "text": [
      "11.2\n",
      "x mean = 2.010\n",
      "x standard deviation = 0.9981\n",
      "\n",
      "11.3\n"
     ]
    },
    {
     "data": {
      "image/png": "[encoded data removed]",
      "text/plain": [
       "<Figure size 432x288 with 1 Axes>"
      ]
     },
     "metadata": {
      "needs_background": "light"
     },
     "output_type": "display_data"
    },
    {
     "name": "stdout",
     "output_type": "stream",
     "text": [
      "\n",
      "11.4\n",
      " The 90th percentile of x is 3.2890994808395093.\n",
      "\n",
      "11.5\n",
      " The 99th percentile of x is 4.3261416073867105.\n",
      "\n",
      "11.7\n"
     ]
    },
    {
     "data": {
      "image/png": "[encoded data removed]",
      "text/plain": [
       "<Figure size 576x396 with 1 Axes>"
      ]
     },
     "metadata": {},
     "output_type": "display_data"
    },
    {
     "name": "stdout",
     "output_type": "stream",
     "text": [
      "11.8\n",
      "E[XY] =  0.07896705323467977\n"
     ]
    }
   ],
   "source": [
    "# Set seed\n",
    "np.random.seed(123)\n",
    "\n",
    "# 11.1 Synthesize 10^4 normally distributed data points, mean = 2, sd = 1\n",
    "mean = 2\n",
    "sd = 1\n",
    "x = np.random.normal(mean, sd, 10000)\n",
    "\n",
    "#11.2 Mean and sd\n",
    "x_mean = x.mean()\n",
    "x_std = x.std()\n",
    "print('11.2')\n",
    "print('x mean = %.3f' %(x_mean))\n",
    "print('x standard deviation = %.4g' %(x_std))\n",
    "\n",
    "#11.3 Histogram of x\n",
    "print('\\n11.3')\n",
    "plt.title('Histogram of X')\n",
    "plt.style.use(\"seaborn\")\n",
    "plt.hist(x, bins =30)\n",
    "plt.xlabel('X values')\n",
    "plt.ylabel('Count')\n",
    "plt.show()\n",
    "\n",
    "#11.4 & 11.5 90th and 99th percentile of x\n",
    "p1 = np.percentile(x, 90)\n",
    "p2 = np.percentile(x, 99)\n",
    "print(f\"\\n11.4\\n The 90th percentile of x is {p1}.\")\n",
    "print(f\"\\n11.5\\n The 99th percentile of x is {p2}.\")\n",
    "\n",
    "#11.6 Synthesize 10k points, mean = 0, sd = 3\n",
    "y = np.random.normal(0, 3, 10000)\n",
    "\n",
    "#11.7 Histogram of x and y\n",
    "print('\\n11.7')\n",
    "plt.title('Histogram of X and Y')\n",
    "plt.style.use(\"seaborn\")\n",
    "plt.hist(x,bins = 30, alpha = .8, label = 'x')\n",
    "plt.hist(y,bins = 30, alpha = .4, label = 'y', color = 'yellow')\n",
    "plt.xlabel('X and Y Values')\n",
    "plt.ylabel('Count')\n",
    "plt.legend()\n",
    "plt.show()\n",
    "\n",
    "#11.8 Estimate E[XY]\n",
    "E_XY = np.mean(x*y)\n",
    "print('11.8\\nE[XY] = ',E_XY)"
   ]
  },
  {
   "cell_type": "markdown",
   "metadata": {},
   "source": [
    "# Version Control via Git"
   ]
  },
  {
   "cell_type": "markdown",
   "metadata": {},
   "source": [
    "## 12\n",
    "**[1 point]** You will need to use Git to submit assignments and in the course projects and is generally a version control and collaboration tool. You can even use some Git repositories (e.g. Github) as hosts for website, such as with the [course website](https://kylebradbury.github.io/ids705/index.html). \n",
    "\n",
    "Complete the [Atlassian Git tutorial](https://www.atlassian.com/git/tutorials/what-is-version-control), specifically the following listed sections. Try each concept that's presented. For this tutorial, instead of using BitBucket as your remote repository host, you may use your preferred platform such as [Github](https://github.com/) or [Duke's Gitlab](https://gitlab.oit.duke.edu/users/sign_in).\n",
    "1. [What is version control](https://www.atlassian.com/git/tutorials/what-is-version-control)\n",
    "2. [What is Git](https://www.atlassian.com/git/tutorials/what-is-git)\n",
    "3. [Install Git](https://www.atlassian.com/git/tutorials/install-git)\n",
    "4. [Setting up a repository](https://www.atlassian.com/git/tutorials/install-git)\n",
    "5. [Saving changes](https://www.atlassian.com/git/tutorials/saving-changes)\n",
    "6. [Inspecting a repository](https://www.atlassian.com/git/tutorials/inspecting-a-repository)\n",
    "7. [Undoing changes](https://www.atlassian.com/git/tutorials/undoing-changes)\n",
    "8. [Rewriting history](https://www.atlassian.com/git/tutorials/rewriting-history)\n",
    "9. [Syncing](https://www.atlassian.com/git/tutorials/syncing)\n",
    "10. [Making a pull request](https://www.atlassian.com/git/tutorials/making-a-pull-request)\n",
    "11. [Using branches](https://www.atlassian.com/git/tutorials/using-branches)\n",
    "12. [Comparing workflows](https://www.atlassian.com/git/tutorials/comparing-workflows)\n",
    "\n",
    "I also have created two videos on the topic to help you understand some of these concepts: [Git basics](https://www.youtube.com/watch?v=fBCwfoBr2ng) and a [step-by-step tutorial](https://www.youtube.com/watch?v=nH7qJHx-h5s).\n",
    "\n",
    "For your answer, affirm that you *either* completed the tutorial or have previous experience with all of the concepts above. Do this by typing your name below and selecting the situation that applies from the two options in brackets."
   ]
  },
  {
   "cell_type": "markdown",
   "metadata": {},
   "source": [
    "**ANSWER**\n",
    "\n",
    "I, Nathan Warren, affirm that I have completed the above tutorial."
   ]
  },
  {
   "cell_type": "markdown",
   "metadata": {},
   "source": [
    "# Exploratory Data Analysis\n",
    "## 13\n",
    "**[20 points]** Here you'll bring together some of the individual skills that you demonstrated above and create a Jupyter notebook based blog post on data analysis.\n",
    "\n",
    "1. Find a dataset that interests you and relates to a question or problem that you find intriguing\n",
    "2. Using a Jupyter notebook, describe the dataset, the source of the data, and the reason the dataset was of interest.\n",
    "3. Check the data and see if they need to be cleaned: are there missing values? Are there clearly erroneous values? Do two tables need to be merged together? Clean the data so it can be visualized.\n",
    "3. Plot the data, demonstrating interesting features that you discover. Are there any relationships between variables that were surprising or patterns that emerged? Please exercise creativity and curiosity in your plots.\n",
    "4. What insights are you able to take away from exploring the data? Is there a reason why analyzing the dataset you chose is particularly interesting or important? Summarize this as if your target audience was the readership of a major news organization - boil down your findings in a way that is accessible, but still accurate.\n",
    "\n",
    "Here your analysis will evaluated based on:\n",
    "1. Data cleaning: did you look for and work to resolve issues in the data?\n",
    "2. Quality of data exploration: did you provide plots demonstrating interesting aspects of the data?\n",
    "3. Interpretation: Did you clearly explain your insights? Restating the data, alone, is not interpretation.\n",
    "5. Professionalism: Was this work done in a way that exhibits professionalism through clarity, organization, high quality figures and plots, and meaningful descriptions?"
   ]
  },
  {
   "cell_type": "markdown",
   "metadata": {},
   "source": [
    "**ANSWER**"
   ]
  }
 ],
 "metadata": {
  "kernelspec": {
   "display_name": "Python 3",
   "language": "python",
   "name": "python3"
  },
  "language_info": {
   "codemirror_mode": {
    "name": "ipython",
    "version": 3
   },
   "file_extension": ".py",
   "mimetype": "text/x-python",
   "name": "python",
   "nbconvert_exporter": "python",
   "pygments_lexer": "ipython3",
   "version": "3.7.6"
  },
  "varInspector": {
   "cols": {
    "lenName": 16,
    "lenType": 16,
    "lenVar": 40
   },
   "kernels_config": {
    "python": {
     "delete_cmd_postfix": "",
     "delete_cmd_prefix": "del ",
     "library": "var_list.py",
     "varRefreshCmd": "print(var_dic_list())"
    },
    "r": {
     "delete_cmd_postfix": ") ",
     "delete_cmd_prefix": "rm(",
     "library": "var_list.r",
     "varRefreshCmd": "cat(var_dic_list()) "
    }
   },
   "types_to_exclude": [
    "module",
    "function",
    "builtin_function_or_method",
    "instance",
    "_Feature"
   ],
   "window_display": false
  }
 },
 "nbformat": 4,
 "nbformat_minor": 4
}
